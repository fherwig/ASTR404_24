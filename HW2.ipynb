{
 "cells": [
  {
   "cell_type": "markdown",
   "metadata": {},
   "source": [
    "# Homework 2\n",
    "\n",
    "Please read carefully the important information in [HW-teams.md](HW-teams.md)!!\n",
    "\n",
    "\n",
    "**Due:** 02/28 9pm (I will copy the notebooks at that time as described in `HW-teams.md` and any changes made after that are ignored)\n",
    "\n",
    "\n"
   ]
  },
  {
   "cell_type": "markdown",
   "metadata": {},
   "source": [
    "## 1. Temperature gradient\n",
    "Based on the derivation of the stability criterion for convection we found that an <u>adiabatic</u> stratification with $\\mu = 1$ obeys the relation\n",
    "$$\n",
    "\\frac{\\rho}{\\gamma P} \\frac{dP}{dz} = \\frac{d\\rho}{dz} \\ .\n",
    "$$\n",
    "\n",
    "Show that this can be written for the temperature gradient as \n",
    "$$\n",
    "\\frac{dT}{dz} =  \\frac{\\gamma - 1}{\\gamma} \\frac{T}{P}\\frac{dP}{dz}\n",
    "$$\n",
    "and express this last expression in logaritmic temperature gradients $\\nabla \\equiv \\frac{\\partial ln T }{\\partial ln P}$ ."
   ]
  },
  {
   "cell_type": "markdown",
   "metadata": {
    "tags": [
     "parameters"
    ]
   },
   "source": [
    "## 2. s process \n",
    "The goal of this problem is to compare the observed abundances in an s-process star with the model predictions from the NuGrid models. \n",
    "\n",
    "**a.** Analyse low-mass (e.g. $1.65$ or $2M_\\odot$) NuGrid models for high and low metallicity, specifically Z = 0.02, 0.001 and 0.0001. \n",
    "\n",
    "* Find in each case that you look at the location of the $^\\mathrm{13}C$ pocket when it has evolved to the end of the interpulse phase, just before the last thermal pulse happens and the final He-shell flash convection zone emerges. \n",
    "* Make a profile plot of relevant heavy isotopes, representing the most meaningful heavy elements to consider. (These are not necessarily the defaults that you may have found in some example notebook!) These should include isotopes of elements representing the first, second and third peak at or near the respective magic neutron numbers.\n",
    "* In your approximate analysis you probably want to look carefully at the chart of isotopes to know which isotopes to consider. Make sure to really zoom in sufficiently to find what you are looking for. It would be a good idea to start by reproducing a plot shown in class, at least qualitatively.\n",
    "* When trying to judge the relative level of production in the pocket consider that you can get the initial solar values from an early model during the pre-main sequence when definitely no n-capture nucleoynthesis would have happened. Compare element ratios, such as [Ba/Sr], for example.\n",
    "* **Describe** and **explain** the key difference between the s process at solar, low and very-low Z.\n",
    "\n",
    "**b.** Use your analysis of the NuGrid s-process models to intepret the observations of the star CD-$50\\degree776$ as reported by Roriz et al. (2017). You can find the paper in the `Notebooks_Movies_Papers` directory. The observed abundance distribution is shown in Figure 14 and the abundances are also reported in Table 4. Comment on the following points (and any others you want to make)\n",
    "\n",
    "* Models with which Z agree with the observed abundances best? \n",
    "* Mention all the evidence you can find. Definitely comment on the absolute and relative abundances of the heavy elements at the first, second and third peak. \n",
    "* Are the observed C and N abundances qualitatively in agreement with your finding based on the heavy elements?\n",
    "* Bonus question: One hypothesis for the origin of stars like this one is that we are observing a binary companion of a former low-mass AGB stars that has accreted the observed enhanced heavy-elements through transfer in a wide binary. Indeed, many of objects like this one (the CEMP-s or C-enhanced Metal-Poor s-enriched stars) do indeed show radial velocity variations consistent with now having a white dwarf companion. However, just considering this scenario in terms of the amount of enrichment possible, considering dilution as a result of binary transfer as an order-of-magnitude effect, what is your initial response to this hypothesis?\n"
   ]
  },
  {
   "cell_type": "markdown",
   "metadata": {},
   "source": []
  }
 ],
 "metadata": {
  "kernelspec": {
   "display_name": "astrohub2",
   "language": "python",
   "name": "python3"
  },
  "language_info": {
   "codemirror_mode": {
    "name": "ipython",
    "version": 3
   },
   "file_extension": ".py",
   "mimetype": "text/x-python",
   "name": "python",
   "nbconvert_exporter": "python",
   "pygments_lexer": "ipython3",
   "version": "3.8.16"
  }
 },
 "nbformat": 4,
 "nbformat_minor": 2
}
