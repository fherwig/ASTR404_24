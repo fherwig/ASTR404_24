{
 "cells": [
  {
   "cell_type": "markdown",
   "metadata": {},
   "source": [
    "# Homework 3\n",
    "\n",
    "Please read carefully the important information in [HW-teams.md](HW-teams.md)!!\n",
    "\n",
    "\n",
    "**Due:** 03/11 9pm (Due to how late I have issued this HW I will consider requests for a reasonable extension if they are made by email before the deadline.)\n",
    "\n",
    "\n"
   ]
  },
  {
   "cell_type": "markdown",
   "metadata": {},
   "source": [
    "In an explicit gas dynamics simulation that solves the Euler equations with radiative diffusion as discussed in class there are two time step limits that need to be obeyed. The first is the Courant-Friedrich-Levy condition that says that sound waves may not travel more than a grid cell (or in fact some fraction of it) in a given time step. The second is that only a fraction of the heat content of a grid cell may escape by radiative diffusion in a single time step. We can express these two conditions as follows:\n",
    "\n",
    "\n",
    "Recall that the radiative conductivity is  \n",
    "$$\n",
    "K = \\frac{4 a c T^3}{3 \\kappa \\rho}\n",
    "$$\n",
    "which is also called $k_\\mathrm{rad}$, the _coefficient of radiative conduction_. With this the diffusive flux of radiative energy is\n",
    "$$\n",
    "F = -k_\\mathrm{rad} \\nabla T\n",
    "$$\n",
    "where $F$ is the diffusive flux of radiative energy. One can then show (see Kippenhahn & Weigert) that this flux corresponds to a radiative diffusion coefficient\n",
    "(for an ideal gas) given by\n",
    "$$\n",
    "\\nu_\\mathrm{rad} = \\frac{2}{3 \\mathcal{R}} \\frac{k_\\mathrm{rad}}{\\rho}\\ .\n",
    "$$ \n",
    "\n",
    "\n"
   ]
  },
  {
   "cell_type": "markdown",
   "metadata": {},
   "source": [
    "The CFL condition is expressed as $\\Delta t_\\mathrm{s} < \\Delta x / c_\\mathrm{s}$ where $\\Delta x$ is the grid size and $c_\\mathrm{s}$ is the sound speed. Similarly, the stability criterion for a diffusive process can be expressed as \n",
    "$$\n",
    "\\Delta t_\\mathrm{rad} < \\frac{(\\Delta x)^2}{4\\nu} \n",
    "$$\n",
    "where in our case diffusivity $\\nu = \\nu_\\mathrm{rad}$ is the radiative diffusivity.\n",
    "\n",
    "1. Analyze a zero-age main-sequence stellar evolution model of a $25M_\\odot$, $Z=0.01$ massive star from the NuGrid library and use the available profile data to plot $\\Delta t_\\mathrm{s}$ and $\\Delta t_\\mathrm{rad}$ for typical grid sizes $\\Delta x \\in [1,5,10]\\mathrm{Mm}$.\n",
    "2. This stellar model has a core convection zone and a thin envelope convection zone. Plot on the same plot on the other y axis the convective velocity profile in terms od the Mach number $v_\\mathrm{conv}/c_\\mathrm{s}$. What is your conclusion regarding the computational challenges and computational cost of a simulation that includes the outermost thin convection zone, compared to one which just limits the simulation to the inner region below the outer convection zone?\n",
    "3. Use the concept of the radiation time scale  introduced above, $l_\\mathrm{rad}^2/(4\\nu)$ where $l_\\mathrm{rad}$ is a characteristic length scale, to estimate the local thermal adjustment time when you adopt for $l_\\mathrm{rad}$ a pressure scale height. Compare this estimate with a second estimate obtaind from the ratio of local internal energy to local luminosity $E_\\mathrm{int}/L$, where $E_\\mathrm{int}$ is at any radius the internal energy of a shell of thickness of the pressure scale height. Compare the estimates and comment on their similarity or difference.\n",
    "\n"
   ]
  },
  {
   "cell_type": "code",
   "execution_count": null,
   "metadata": {},
   "outputs": [],
   "source": []
  }
 ],
 "metadata": {
  "kernelspec": {
   "display_name": "astrohub2",
   "language": "python",
   "name": "python3"
  },
  "language_info": {
   "codemirror_mode": {
    "name": "ipython",
    "version": 3
   },
   "file_extension": ".py",
   "mimetype": "text/x-python",
   "name": "python",
   "nbconvert_exporter": "python",
   "pygments_lexer": "ipython3",
   "version": "3.8.16"
  }
 },
 "nbformat": 4,
 "nbformat_minor": 2
}
