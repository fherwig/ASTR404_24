{
 "cells": [
  {
   "cell_type": "code",
   "execution_count": null,
   "metadata": {},
   "outputs": [],
   "source": []
  },
  {
   "cell_type": "markdown",
   "metadata": {},
   "source": [
    "# Homework 4\n",
    "\n",
    "Please read carefully the important information in [HW-teams.md](HW-teams.md)!!\n",
    "\n",
    "\n",
    "**Due:** 03/25 9pm \n",
    "\n",
    "### Part 1\n",
    "We would like to explore if the distributed cloud of power in the $l$ - frequency power-spectral-density diagram, as well as then well defined arches, represent traveling or standing waves that obey the internal gravity wave dispersion relation.\n",
    "\n",
    "The files `HW4/kOmega-M424a-fullstar-100xhtdiff-1792-Radius3000_ur_B.pickle` and `HW4/kOmega-M424a-fullstar-100xhtdiff-1792-Radius3000_ut_B.pickle` contain the power spectral density (PSD) of the radial and spherical velocity components at radius $3000\\mathrm{Mm}$ of the simulation of a massive star with convective core and envelope discussed in class. At that radius the BV frequency is $82.23861\\mathrm{\\mu Hz}$. Recall that the PSD has the units of amplitude squared (per angular degree $l$ and per $\\mathrm{\\mu Hz}$). The data file is a Python pickle file and contains three arrays: `spatial_freqs`,`temporal_freqs`, `spec` which contain the angluar degree $l$, the temporal frequency and the 2D array with the PSD. The temporal frequency contains both the postive and negative values as produced by the fft. Ignoe the negative frequencies and their PSD values.\n",
    "\n",
    "\n",
    "\n",
    "1. Make a plot of the PSD, similar to what was shown in class (slide set 7).\n",
    "2. Plot the PSD or the horitzontal and vertical velocity component as a function of frequency just for $l=50$. Plot both lines in the same plot, using the left and right y axis. Try log and linear y scales, and identify the frequency range of the distributed power region and the region where power is concentrated in well identified peaks. Consider only frequencies below the BV frequency.\n",
    "3. Define a suitable test function $G$ which is a ratio with $(N/\\omega)^2$ in the nominator, and which should be unity if the dispersion relation is obeyed. Plot this function $G(\\omega)$. \n",
    "4. Take the average of G over each of the two frequency ranges. What is your tentative conclusion? Elaborate on anything you note in your data analysis.\n"
   ]
  },
  {
   "cell_type": "code",
   "execution_count": null,
   "metadata": {},
   "outputs": [],
   "source": []
  },
  {
   "cell_type": "markdown",
   "metadata": {},
   "source": [
    "\n",
    "### Part 2\n",
    "This part should be done individually and not as a team. Please save the answer to this question in a separate file called `HW4_name.md` (or if you include figures call it `HW_name.pdf`) where `name` is your github user name and leave it in your own astrohub name_config directory (not some subdirectory).\n",
    "\n",
    "Describe in one paragraph less than 200 words the objective and methology of your project. You may add any preliminary protoyping plot that you may already have made. \n",
    "\n",
    "\n"
   ]
  }
 ],
 "metadata": {
  "kernelspec": {
   "display_name": "Python 3 (ipykernel)",
   "language": "python",
   "name": "python3"
  },
  "language_info": {
   "codemirror_mode": {
    "name": "ipython",
    "version": 3
   },
   "file_extension": ".py",
   "mimetype": "text/x-python",
   "name": "python",
   "nbconvert_exporter": "python",
   "pygments_lexer": "ipython3",
   "version": "3.8.18"
  }
 },
 "nbformat": 4,
 "nbformat_minor": 4
}
