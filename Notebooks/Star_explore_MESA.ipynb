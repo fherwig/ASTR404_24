{
 "cells": [
  {
   "cell_type": "markdown",
   "metadata": {},
   "source": [
    "# Explore a NuGrid star model in iPython notebook\n",
    "\n",
    "Modified for ASTR 404, Winter 2024. Execute this notebook on the [Astohub](https://astrohub.uvic.ca)."
   ]
  },
  {
   "cell_type": "markdown",
   "metadata": {},
   "source": [
    "\n",
    "### Initialize session"
   ]
  },
  {
   "cell_type": "code",
   "execution_count": null,
   "metadata": {},
   "outputs": [],
   "source": [
    "%pylab ipympl\n",
    "from nugridpy import mesa as ms\n",
    "from nugridpy import nugridse as mp\n",
    "\n",
    "data_dir=\"/data/ASDR/NuGrid\"  \n",
    "\n",
    "ms.set_nugrid_path(data_dir)\n",
    "mp.set_nugrid_path(data_dir)"
   ]
  },
  {
   "cell_type": "markdown",
   "metadata": {},
   "source": [
    "### The MESA stellar evolution model\n",
    "\n",
    "By default MESA is putting out two types of data. History data provides the time evolution of scalar quantities, one per time step. This data can be accessed with the `mesa.star_log` (or `mesa.history_data` which is the same) class.\n",
    "\n",
    "MESA also outputs profile data at select time steps. Profiles are available via the `mesa_profile` class.\n",
    "\n",
    "#### History data\n",
    "Initialise the 2 solar-mass Z=0.02 MESA stellar evolution model from set1.2 using the seeker method:"
   ]
  },
  {
   "cell_type": "code",
   "execution_count": null,
   "metadata": {},
   "outputs": [],
   "source": [
    "s=ms.star_log(mass=1,Z=0.02)   # or ms.history_data which is just an alias"
   ]
  },
  {
   "cell_type": "markdown",
   "metadata": {},
   "source": [
    "`s` is an instance of the history data, which is the table of scalar quantities such as mass, $T_\\mathrm{eff}$ etc for each time step or model.\n",
    "\n",
    "There are a number of pre-defined functions or methods associated with this instances, such as an HRD or a Kippenhahn diagram:"
   ]
  },
  {
   "cell_type": "code",
   "execution_count": null,
   "metadata": {},
   "outputs": [],
   "source": [
    "ifig=102;close(ifig);figure(ifig)\n",
    "s.hrd_new()\n",
    "legend(loc='lower right').draw_frame(False)"
   ]
  },
  {
   "cell_type": "code",
   "execution_count": null,
   "metadata": {},
   "outputs": [],
   "source": [
    "ifig=107;close(ifig);figure(ifig)\n",
    "s.kip_cont(ifig=ifig, boundaries=True,engenlevels=[1e2,1e6,1e12],modstart=100,modstop=500)"
   ]
  },
  {
   "cell_type": "markdown",
   "metadata": {},
   "source": [
    "Note that each function has a pythonic doc string, e.g. `s.kip_cont`. \n",
    "\n",
    "The `s.cols` command gives a list of available columns in the history file. Maybe the most important method is `s.get('col_name)` which returns an array with the data in the column with name `col_name`.\n",
    "\n",
    "Below we demonstrate this by funding a model similar to that of our sun (age $\\approx 4.6$ billion years, mass $1\\mathrm{M_\\odot}$ and $Z=0.02$ and then find the central temperature and pressure of that stellar model."
   ]
  },
  {
   "cell_type": "code",
   "execution_count": null,
   "metadata": {},
   "outputs": [],
   "source": [
    "# this is the array with the ages of the stellar models\n",
    "s.get('star_age')"
   ]
  },
  {
   "cell_type": "code",
   "execution_count": null,
   "metadata": {},
   "outputs": [],
   "source": [
    "# find the index that corresponds to the approximate age of the sun\n",
    "# recall that we initiated `s` as a 1Msun, Z=0.02 model\n",
    "ind_sun = where(s.get('star_age')<4.6e9)[0][-1]\n",
    "ind_sun"
   ]
  },
  {
   "cell_type": "code",
   "execution_count": null,
   "metadata": {},
   "outputs": [],
   "source": [
    "# let's check what quantities we have\n",
    "s.cols"
   ]
  },
  {
   "cell_type": "markdown",
   "metadata": {},
   "source": [
    "As we can see we have the central temperature as well as some other central quantities already listed as scalar quantities in the history file:\n",
    "\n",
    "```\n",
    "'log_center_T': 123,\n",
    " 'log_center_Rho': 124,\n",
    " 'log_center_P': 125,\n",
    " 'center_mu': 126,\n",
    " 'center_ye': 127,\n",
    " 'center_h1': 128\n",
    " ```\n",
    " \n",
    " Therefore knowing the central T and P is straight forward:"
   ]
  },
  {
   "cell_type": "code",
   "execution_count": null,
   "metadata": {},
   "outputs": [],
   "source": [
    "s.get('log_center_T')[ind_sun]"
   ]
  },
  {
   "cell_type": "code",
   "execution_count": null,
   "metadata": {},
   "outputs": [],
   "source": [
    "s.get('log_center_P')[ind_sun]"
   ]
  },
  {
   "cell_type": "code",
   "execution_count": null,
   "metadata": {},
   "outputs": [],
   "source": [
    "s.get('center_h1')[ind_sun]"
   ]
  },
  {
   "cell_type": "markdown",
   "metadata": {},
   "source": [
    "We can find the same results also by looking at profile data from the MESA output.\n",
    "\n",
    "#### MESA profile files\n",
    "The `mesa.mesa_profile` class provides access to the available profile data. We can again use the seeker method to just find the righ model by initial mass and metallicity. An additional argument `num=` specifies the model number. This behaviour can be changed, see the doc string for details. Profiles are not available for all models, and the method will report which nearby model it has found."
   ]
  },
  {
   "cell_type": "code",
   "execution_count": null,
   "metadata": {},
   "outputs": [],
   "source": [
    "# The `prof` instance is now holding the data of one profile for the given model number in the `num=` argument.\n",
    "prof=ms.mesa_profile(mass=1,Z=0.02,num=ind_sun)"
   ]
  },
  {
   "cell_type": "code",
   "execution_count": null,
   "metadata": {},
   "outputs": [],
   "source": [
    "# Again, have a look at the available quantieis\n",
    "prof.cols"
   ]
  },
  {
   "cell_type": "code",
   "execution_count": null,
   "metadata": {},
   "outputs": [],
   "source": [
    "# The data is presented in arrays that go from the outside inward\n",
    "# therefore the last element is the central value\n",
    "prof.get('pressure')[-1]"
   ]
  },
  {
   "cell_type": "code",
   "execution_count": null,
   "metadata": {},
   "outputs": [],
   "source": [
    "# Of course we can also plot profiles\n",
    "ifig=108;close(ifig);figure(ifig)\n",
    "plot(prof.get('rmid'),prof.get('mu'))"
   ]
  },
  {
   "cell_type": "code",
   "execution_count": null,
   "metadata": {},
   "outputs": [],
   "source": [
    "ifig=108;close(ifig);figure(ifig)\n",
    "prof.plot('mass','c12',shape='-')"
   ]
  },
  {
   "cell_type": "code",
   "execution_count": null,
   "metadata": {},
   "outputs": [],
   "source": [
    "# get all header attributes, these are some scalar quantites (like the ones in the history instance)\n",
    "prof.header_attr"
   ]
  }
 ],
 "metadata": {
  "kernelspec": {
   "display_name": "Python 3",
   "language": "python",
   "name": "python3"
  },
  "language_info": {
   "codemirror_mode": {
    "name": "ipython",
    "version": 3
   },
   "file_extension": ".py",
   "mimetype": "text/x-python",
   "name": "python",
   "nbconvert_exporter": "python",
   "pygments_lexer": "ipython3",
   "version": "3.6.8"
  }
 },
 "nbformat": 4,
 "nbformat_minor": 4
}
